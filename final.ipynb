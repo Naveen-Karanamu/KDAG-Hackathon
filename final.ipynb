{
 "cells": [
  {
   "attachments": {},
   "cell_type": "markdown",
   "metadata": {},
   "source": [
    "# KDAG HACKATHON "
   ]
  },
  {
   "attachments": {},
   "cell_type": "markdown",
   "metadata": {},
   "source": [
    "* Importing the Libraries"
   ]
  },
  {
   "cell_type": "code",
   "execution_count": 3,
   "metadata": {},
   "outputs": [],
   "source": [
    "# Numpy & Pandas for Data Manipulation\n",
    "import numpy as np\n",
    "import pandas as pd\n",
    "\n",
    "import matplotlib.pyplot as plt\n",
    "import seaborn as sns\n",
    "\n",
    "import tensorflow as tf\n",
    "from tensorflow import keras"
   ]
  },
  {
   "attachments": {},
   "cell_type": "markdown",
   "metadata": {},
   "source": [
    "* Reading the given HCP dataset"
   ]
  },
  {
   "cell_type": "code",
   "execution_count": 4,
   "metadata": {},
   "outputs": [],
   "source": [
    "hcp_df=pd.read_excel('HCP_Data_KDAG_Hackathon.xlsx')"
   ]
  },
  {
   "attachments": {},
   "cell_type": "markdown",
   "metadata": {},
   "source": [
    "# Data Exploration"
   ]
  },
  {
   "attachments": {},
   "cell_type": "markdown",
   "metadata": {},
   "source": [
    "* Getting the head of the Data"
   ]
  },
  {
   "cell_type": "code",
   "execution_count": 5,
   "metadata": {},
   "outputs": [
    {
     "data": {
      "text/html": [
       "<div>\n",
       "<style scoped>\n",
       "    .dataframe tbody tr th:only-of-type {\n",
       "        vertical-align: middle;\n",
       "    }\n",
       "\n",
       "    .dataframe tbody tr th {\n",
       "        vertical-align: top;\n",
       "    }\n",
       "\n",
       "    .dataframe thead th {\n",
       "        text-align: right;\n",
       "    }\n",
       "</style>\n",
       "<table border=\"1\" class=\"dataframe\">\n",
       "  <thead>\n",
       "    <tr style=\"text-align: right;\">\n",
       "      <th></th>\n",
       "      <th>Physician_ID</th>\n",
       "      <th>Time_Period</th>\n",
       "      <th>Brand_Rx</th>\n",
       "      <th>Market_Rx</th>\n",
       "      <th>Sales_Rep_Calls</th>\n",
       "      <th>Samples_Dropped</th>\n",
       "      <th>Physician_Segment</th>\n",
       "      <th>Emails_Delivered</th>\n",
       "      <th>Speaker_Programs_Attended</th>\n",
       "      <th>Vouchers_Dropped</th>\n",
       "      <th>Specialty</th>\n",
       "    </tr>\n",
       "  </thead>\n",
       "  <tbody>\n",
       "    <tr>\n",
       "      <th>0</th>\n",
       "      <td>axt00001</td>\n",
       "      <td>20190104</td>\n",
       "      <td>0.0</td>\n",
       "      <td>2.80567</td>\n",
       "      <td>1</td>\n",
       "      <td>0</td>\n",
       "      <td>3-Low</td>\n",
       "      <td>0</td>\n",
       "      <td>0</td>\n",
       "      <td>0</td>\n",
       "      <td>Dermatologist</td>\n",
       "    </tr>\n",
       "    <tr>\n",
       "      <th>1</th>\n",
       "      <td>axt00001</td>\n",
       "      <td>20190111</td>\n",
       "      <td>0.0</td>\n",
       "      <td>20.57312</td>\n",
       "      <td>1</td>\n",
       "      <td>0</td>\n",
       "      <td>3-Low</td>\n",
       "      <td>0</td>\n",
       "      <td>0</td>\n",
       "      <td>0</td>\n",
       "      <td>Dermatologist</td>\n",
       "    </tr>\n",
       "    <tr>\n",
       "      <th>2</th>\n",
       "      <td>axt00001</td>\n",
       "      <td>20190118</td>\n",
       "      <td>0.0</td>\n",
       "      <td>6.16010</td>\n",
       "      <td>1</td>\n",
       "      <td>0</td>\n",
       "      <td>3-Low</td>\n",
       "      <td>0</td>\n",
       "      <td>0</td>\n",
       "      <td>0</td>\n",
       "      <td>Dermatologist</td>\n",
       "    </tr>\n",
       "    <tr>\n",
       "      <th>3</th>\n",
       "      <td>axt00001</td>\n",
       "      <td>20190125</td>\n",
       "      <td>0.0</td>\n",
       "      <td>8.95501</td>\n",
       "      <td>1</td>\n",
       "      <td>5</td>\n",
       "      <td>3-Low</td>\n",
       "      <td>0</td>\n",
       "      <td>0</td>\n",
       "      <td>0</td>\n",
       "      <td>Dermatologist</td>\n",
       "    </tr>\n",
       "    <tr>\n",
       "      <th>4</th>\n",
       "      <td>axt00001</td>\n",
       "      <td>20190201</td>\n",
       "      <td>0.0</td>\n",
       "      <td>9.13793</td>\n",
       "      <td>1</td>\n",
       "      <td>0</td>\n",
       "      <td>3-Low</td>\n",
       "      <td>0</td>\n",
       "      <td>0</td>\n",
       "      <td>0</td>\n",
       "      <td>Dermatologist</td>\n",
       "    </tr>\n",
       "  </tbody>\n",
       "</table>\n",
       "</div>"
      ],
      "text/plain": [
       "  Physician_ID  Time_Period  Brand_Rx  Market_Rx  Sales_Rep_Calls  \\\n",
       "0     axt00001     20190104       0.0    2.80567                1   \n",
       "1     axt00001     20190111       0.0   20.57312                1   \n",
       "2     axt00001     20190118       0.0    6.16010                1   \n",
       "3     axt00001     20190125       0.0    8.95501                1   \n",
       "4     axt00001     20190201       0.0    9.13793                1   \n",
       "\n",
       "   Samples_Dropped Physician_Segment  Emails_Delivered  \\\n",
       "0                0             3-Low                 0   \n",
       "1                0             3-Low                 0   \n",
       "2                0             3-Low                 0   \n",
       "3                5             3-Low                 0   \n",
       "4                0             3-Low                 0   \n",
       "\n",
       "   Speaker_Programs_Attended  Vouchers_Dropped      Specialty  \n",
       "0                          0                 0  Dermatologist  \n",
       "1                          0                 0  Dermatologist  \n",
       "2                          0                 0  Dermatologist  \n",
       "3                          0                 0  Dermatologist  \n",
       "4                          0                 0  Dermatologist  "
      ]
     },
     "execution_count": 5,
     "metadata": {},
     "output_type": "execute_result"
    }
   ],
   "source": [
    "hcp_df.head()"
   ]
  },
  {
   "attachments": {},
   "cell_type": "markdown",
   "metadata": {},
   "source": [
    "* Getting the basic information about the dataset"
   ]
  },
  {
   "cell_type": "code",
   "execution_count": 6,
   "metadata": {},
   "outputs": [
    {
     "name": "stdout",
     "output_type": "stream",
     "text": [
      "<class 'pandas.core.frame.DataFrame'>\n",
      "RangeIndex: 570000 entries, 0 to 569999\n",
      "Data columns (total 11 columns):\n",
      " #   Column                     Non-Null Count   Dtype  \n",
      "---  ------                     --------------   -----  \n",
      " 0   Physician_ID               570000 non-null  object \n",
      " 1   Time_Period                570000 non-null  int64  \n",
      " 2   Brand_Rx                   570000 non-null  float64\n",
      " 3   Market_Rx                  570000 non-null  float64\n",
      " 4   Sales_Rep_Calls            570000 non-null  int64  \n",
      " 5   Samples_Dropped            570000 non-null  int64  \n",
      " 6   Physician_Segment          570000 non-null  object \n",
      " 7   Emails_Delivered           570000 non-null  int64  \n",
      " 8   Speaker_Programs_Attended  570000 non-null  int64  \n",
      " 9   Vouchers_Dropped           570000 non-null  int64  \n",
      " 10  Specialty                  570000 non-null  object \n",
      "dtypes: float64(2), int64(6), object(3)\n",
      "memory usage: 47.8+ MB\n"
     ]
    }
   ],
   "source": [
    "hcp_df.info()"
   ]
  },
  {
   "attachments": {},
   "cell_type": "markdown",
   "metadata": {},
   "source": [
    "* Getting the Statistical data"
   ]
  },
  {
   "cell_type": "code",
   "execution_count": 7,
   "metadata": {},
   "outputs": [
    {
     "data": {
      "text/html": [
       "<div>\n",
       "<style scoped>\n",
       "    .dataframe tbody tr th:only-of-type {\n",
       "        vertical-align: middle;\n",
       "    }\n",
       "\n",
       "    .dataframe tbody tr th {\n",
       "        vertical-align: top;\n",
       "    }\n",
       "\n",
       "    .dataframe thead th {\n",
       "        text-align: right;\n",
       "    }\n",
       "</style>\n",
       "<table border=\"1\" class=\"dataframe\">\n",
       "  <thead>\n",
       "    <tr style=\"text-align: right;\">\n",
       "      <th></th>\n",
       "      <th>Time_Period</th>\n",
       "      <th>Brand_Rx</th>\n",
       "      <th>Market_Rx</th>\n",
       "      <th>Sales_Rep_Calls</th>\n",
       "      <th>Samples_Dropped</th>\n",
       "      <th>Emails_Delivered</th>\n",
       "      <th>Speaker_Programs_Attended</th>\n",
       "      <th>Vouchers_Dropped</th>\n",
       "    </tr>\n",
       "  </thead>\n",
       "  <tbody>\n",
       "    <tr>\n",
       "      <th>count</th>\n",
       "      <td>5.700000e+05</td>\n",
       "      <td>570000.000000</td>\n",
       "      <td>570000.000000</td>\n",
       "      <td>570000.000000</td>\n",
       "      <td>570000.000000</td>\n",
       "      <td>570000.000000</td>\n",
       "      <td>570000.000000</td>\n",
       "      <td>570000.000000</td>\n",
       "    </tr>\n",
       "    <tr>\n",
       "      <th>mean</th>\n",
       "      <td>2.019150e+07</td>\n",
       "      <td>0.682828</td>\n",
       "      <td>7.988949</td>\n",
       "      <td>0.391295</td>\n",
       "      <td>0.865719</td>\n",
       "      <td>0.271174</td>\n",
       "      <td>0.005746</td>\n",
       "      <td>0.042044</td>\n",
       "    </tr>\n",
       "    <tr>\n",
       "      <th>std</th>\n",
       "      <td>2.693162e+03</td>\n",
       "      <td>1.369037</td>\n",
       "      <td>10.599537</td>\n",
       "      <td>0.488041</td>\n",
       "      <td>3.437103</td>\n",
       "      <td>0.710370</td>\n",
       "      <td>0.076183</td>\n",
       "      <td>0.448897</td>\n",
       "    </tr>\n",
       "    <tr>\n",
       "      <th>min</th>\n",
       "      <td>2.019010e+07</td>\n",
       "      <td>0.000000</td>\n",
       "      <td>0.000000</td>\n",
       "      <td>0.000000</td>\n",
       "      <td>0.000000</td>\n",
       "      <td>0.000000</td>\n",
       "      <td>0.000000</td>\n",
       "      <td>0.000000</td>\n",
       "    </tr>\n",
       "    <tr>\n",
       "      <th>25%</th>\n",
       "      <td>2.019041e+07</td>\n",
       "      <td>0.000000</td>\n",
       "      <td>0.000000</td>\n",
       "      <td>0.000000</td>\n",
       "      <td>0.000000</td>\n",
       "      <td>0.000000</td>\n",
       "      <td>0.000000</td>\n",
       "      <td>0.000000</td>\n",
       "    </tr>\n",
       "    <tr>\n",
       "      <th>50%</th>\n",
       "      <td>2.019072e+07</td>\n",
       "      <td>0.000000</td>\n",
       "      <td>5.081410</td>\n",
       "      <td>0.000000</td>\n",
       "      <td>0.000000</td>\n",
       "      <td>0.000000</td>\n",
       "      <td>0.000000</td>\n",
       "      <td>0.000000</td>\n",
       "    </tr>\n",
       "    <tr>\n",
       "      <th>75%</th>\n",
       "      <td>2.019102e+07</td>\n",
       "      <td>1.004000</td>\n",
       "      <td>10.910640</td>\n",
       "      <td>1.000000</td>\n",
       "      <td>0.000000</td>\n",
       "      <td>0.000000</td>\n",
       "      <td>0.000000</td>\n",
       "      <td>0.000000</td>\n",
       "    </tr>\n",
       "    <tr>\n",
       "      <th>max</th>\n",
       "      <td>2.020013e+07</td>\n",
       "      <td>64.255000</td>\n",
       "      <td>259.966980</td>\n",
       "      <td>1.000000</td>\n",
       "      <td>156.000000</td>\n",
       "      <td>8.000000</td>\n",
       "      <td>2.000000</td>\n",
       "      <td>23.000000</td>\n",
       "    </tr>\n",
       "  </tbody>\n",
       "</table>\n",
       "</div>"
      ],
      "text/plain": [
       "        Time_Period       Brand_Rx      Market_Rx  Sales_Rep_Calls  \\\n",
       "count  5.700000e+05  570000.000000  570000.000000    570000.000000   \n",
       "mean   2.019150e+07       0.682828       7.988949         0.391295   \n",
       "std    2.693162e+03       1.369037      10.599537         0.488041   \n",
       "min    2.019010e+07       0.000000       0.000000         0.000000   \n",
       "25%    2.019041e+07       0.000000       0.000000         0.000000   \n",
       "50%    2.019072e+07       0.000000       5.081410         0.000000   \n",
       "75%    2.019102e+07       1.004000      10.910640         1.000000   \n",
       "max    2.020013e+07      64.255000     259.966980         1.000000   \n",
       "\n",
       "       Samples_Dropped  Emails_Delivered  Speaker_Programs_Attended  \\\n",
       "count    570000.000000     570000.000000              570000.000000   \n",
       "mean          0.865719          0.271174                   0.005746   \n",
       "std           3.437103          0.710370                   0.076183   \n",
       "min           0.000000          0.000000                   0.000000   \n",
       "25%           0.000000          0.000000                   0.000000   \n",
       "50%           0.000000          0.000000                   0.000000   \n",
       "75%           0.000000          0.000000                   0.000000   \n",
       "max         156.000000          8.000000                   2.000000   \n",
       "\n",
       "       Vouchers_Dropped  \n",
       "count     570000.000000  \n",
       "mean           0.042044  \n",
       "std            0.448897  \n",
       "min            0.000000  \n",
       "25%            0.000000  \n",
       "50%            0.000000  \n",
       "75%            0.000000  \n",
       "max           23.000000  "
      ]
     },
     "execution_count": 7,
     "metadata": {},
     "output_type": "execute_result"
    }
   ],
   "source": [
    "hcp_df.describe()"
   ]
  },
  {
   "attachments": {},
   "cell_type": "markdown",
   "metadata": {},
   "source": [
    "* Getting the maximum of all the promotional parameters per data point and storing it in 'max' column"
   ]
  },
  {
   "cell_type": "code",
   "execution_count": 8,
   "metadata": {},
   "outputs": [
    {
     "name": "stdout",
     "output_type": "stream",
     "text": [
      "0          Sales_Rep_Calls\n",
      "1          Sales_Rep_Calls\n",
      "2          Sales_Rep_Calls\n",
      "3          Samples_Dropped\n",
      "4          Sales_Rep_Calls\n",
      "                ...       \n",
      "569995    Emails_Delivered\n",
      "569996     Sales_Rep_Calls\n",
      "569997    Emails_Delivered\n",
      "569998    Emails_Delivered\n",
      "569999     Sales_Rep_Calls\n",
      "Name: max, Length: 570000, dtype: object\n"
     ]
    }
   ],
   "source": [
    "# channel 1 for sales_rep_calls\n",
    "# channel 2 for samples_dropped\n",
    "# channel 0 for emails_delivered \n",
    "# channel 3 for Speaker_Programs_Attended\n",
    "# channel 4 for Vouchers_Dropped\n",
    "\n",
    "hcp_df[\"max\"]=hcp_df[['Sales_Rep_Calls','Samples_Dropped','Emails_Delivered','Speaker_Programs_Attended','Vouchers_Dropped']].idxmax(axis=1)\n",
    "print(hcp_df[\"max\"])"
   ]
  },
  {
   "cell_type": "markdown",
   "metadata": {},
   "source": []
  }
 ],
 "metadata": {
  "kernelspec": {
   "display_name": "venv",
   "language": "python",
   "name": "python3"
  },
  "language_info": {
   "codemirror_mode": {
    "name": "ipython",
    "version": 3
   },
   "file_extension": ".py",
   "mimetype": "text/x-python",
   "name": "python",
   "nbconvert_exporter": "python",
   "pygments_lexer": "ipython3",
   "version": "3.9.13"
  },
  "orig_nbformat": 4,
  "vscode": {
   "interpreter": {
    "hash": "e28cbaa2302fc505a1de658d64bdc53d2a27a1e502149c8792e830e167a6548b"
   }
  }
 },
 "nbformat": 4,
 "nbformat_minor": 2
}
